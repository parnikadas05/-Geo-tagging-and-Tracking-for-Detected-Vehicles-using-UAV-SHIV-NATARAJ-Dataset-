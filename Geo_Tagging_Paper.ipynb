{
  "nbformat": 4,
  "nbformat_minor": 0,
  "metadata": {
    "colab": {
      "provenance": []
    },
    "kernelspec": {
      "name": "python3",
      "display_name": "Python 3"
    },
    "language_info": {
      "name": "python"
    }
  },
  "cells": [
    {
      "cell_type": "code",
      "execution_count": null,
      "metadata": {
        "colab": {
          "base_uri": "https://localhost:8080/"
        },
        "id": "lqTidtg969ph",
        "outputId": "bd56cb2b-338c-4312-dedc-83eca02fab17"
      },
      "outputs": [
        {
          "output_type": "stream",
          "name": "stdout",
          "text": [
            "Mounted at /content/drive\n"
          ]
        }
      ],
      "source": [
        "from google.colab import drive\n",
        "drive.mount('/content/drive')"
      ]
    },
    {
      "cell_type": "code",
      "source": [
        "!pip install utm\n"
      ],
      "metadata": {
        "colab": {
          "base_uri": "https://localhost:8080/"
        },
        "id": "BgkSnEo57IgR",
        "outputId": "22f51974-43c1-4df8-a50f-1e312ad6e66d"
      },
      "execution_count": null,
      "outputs": [
        {
          "output_type": "stream",
          "name": "stdout",
          "text": [
            "Collecting utm\n",
            "  Downloading utm-0.8.0.tar.gz (13 kB)\n",
            "  Preparing metadata (setup.py) ... \u001b[?25l\u001b[?25hdone\n",
            "Building wheels for collected packages: utm\n",
            "  Building wheel for utm (setup.py) ... \u001b[?25l\u001b[?25hdone\n",
            "  Created wheel for utm: filename=utm-0.8.0-py3-none-any.whl size=8536 sha256=d381e2527637cb0baf102d5c8684e28b80238dbf563066af377576bf27c324f9\n",
            "  Stored in directory: /root/.cache/pip/wheels/b0/88/9b/1968d3a5933864f7d6312d8217027dd4d52b9647f678c67023\n",
            "Successfully built utm\n",
            "Installing collected packages: utm\n",
            "Successfully installed utm-0.8.0\n"
          ]
        }
      ]
    },
    {
      "cell_type": "code",
      "source": [],
      "metadata": {
        "id": "w-FmYYE07_qb"
      },
      "execution_count": null,
      "outputs": []
    },
    {
      "cell_type": "code",
      "source": [
        "import cv2\n",
        "import numpy as np\n",
        "import utm\n",
        "\n",
        "# Define landmarks (latitude, longitude) and corresponding pixel coordinates\n",
        "landmarks_geo = [\n",
        "    (21.30323333, 72.95387778),\n",
        "    (21.30486667, 72.95492222),\n",
        "    (21.30457222, 72.95447778),\n",
        "    (21.30312222, 72.95451111),\n",
        "    (21.30548333, 72.95526944),\n",
        "    (21.30383056, 72.95407778),\n",
        "    (21.30605556, 72.95398611)\n",
        "]\n",
        "\n",
        "# Convert geographical coordinates to UTM\n",
        "landmarks_utm = np.array([utm.from_latlon(lat, lon)[:2] for lat, lon in landmarks_geo], dtype=np.float32)\n",
        "\n",
        "# Corresponding pixel coordinates in the first frame\n",
        "initial_pixel_points = np.array([\n",
        "    [1843, 759],\n",
        "    [674, 316],\n",
        "    [906, 549],\n",
        "    [1854, 367],\n",
        "    [231, 169],\n",
        "    [1439, 711],\n",
        "    [17, 1020]\n",
        "], dtype=np.float32)\n",
        "\n",
        "# Compute the homography matrix\n",
        "homography_matrix, status = cv2.findHomography(initial_pixel_points, landmarks_utm, method=cv2.RANSAC)\n",
        "\n",
        "print(\"Homography Matrix:\")\n",
        "print(homography_matrix)\n",
        "\n",
        "video_path = \"/content/drive/MyDrive/Kamrej 2.mp4\"\n",
        "cap = cv2.VideoCapture(video_path)\n",
        "\n",
        "frame_width = int(cap.get(3))\n",
        "frame_height = int(cap.get(4))\n",
        "fps = int(cap.get(cv2.CAP_PROP_FPS))\n",
        "\n",
        "out = cv2.VideoWriter('/content/output_geotagged.mp4', cv2.VideoWriter_fourcc(*'mp4v'), fps, (frame_width, frame_height))\n",
        "\n",
        "while cap.isOpened():\n",
        "    ret, frame = cap.read()\n",
        "    if not ret:\n",
        "        break\n",
        "\n",
        "    # Process each pixel point\n",
        "    for x in initial_pixel_points:\n",
        "        pixel_point = np.array([x], dtype=np.float32).reshape(-1, 1, 2)\n",
        "        utm_point = cv2.perspectiveTransform(pixel_point, homography_matrix)\n",
        "        utm_x, utm_y = utm_point[0][0]\n",
        "\n",
        "        latitude, longitude = utm.to_latlon(utm_x, utm_y, 43, 'Q')\n",
        "\n",
        "        center = (int(x[0]), int(x[1]))\n",
        "        cv2.circle(frame, center, 5, (0, 255, 0), -1)\n",
        "\n",
        "        text_position = (int(x[0]) + 10, int(x[1]) - 10)\n",
        "        cv2.putText(frame, f\"{latitude:.6f}, {longitude:.6f}\", text_position,\n",
        "                    cv2.FONT_HERSHEY_SIMPLEX, 0.5, (255, 255, 255), 1, cv2.LINE_AA)\n",
        "\n",
        "    out.write(frame)\n",
        "\n",
        "cap.release()\n",
        "out.release()\n",
        "cv2.destroyAllWindows()\n",
        "\n",
        "print(\"Geotagging complete! Video saved as /content/output_geotagged.mp4\")\n"
      ],
      "metadata": {
        "id": "JokY6Ae06pU9",
        "colab": {
          "base_uri": "https://localhost:8080/"
        },
        "outputId": "430a42f3-5253-445f-a350-f966062bd53a"
      },
      "execution_count": null,
      "outputs": [
        {
          "output_type": "stream",
          "name": "stdout",
          "text": [
            "Homography Matrix:\n",
            "[[-1.51364659e+00 -6.26378824e+00  2.87929897e+05]\n",
            " [-1.23062767e+01 -4.99425190e+01  2.35736371e+06]\n",
            " [-5.15176897e-06 -2.12004961e-05  1.00000000e+00]]\n",
            "Geotagging complete! Video saved as /content/output_geotagged.mp4\n"
          ]
        }
      ]
    },
    {
      "cell_type": "code",
      "source": [
        "!pip install utm\n",
        "import cv2\n",
        "import numpy as np\n",
        "import utm\n",
        "\n",
        "# Define landmarks (latitude, longitude) and corresponding pixel coordinates\n",
        "landmarks_geo = [\n",
        "    (21.30323333, 72.95387778),\n",
        "    (21.30486667, 72.95492222),\n",
        "    (21.30457222, 72.95447778),\n",
        "    (21.30312222, 72.95451111),\n",
        "    (21.30548333, 72.95526944),\n",
        "    (21.30383056, 72.95407778),\n",
        "    (21.30605556, 72.95398611)\n",
        "]\n",
        "\n",
        "# Convert geographical coordinates to UTM\n",
        "landmarks_utm = np.array([utm.from_latlon(lat, lon)[:2] for lat, lon in landmarks_geo], dtype=np.float32)\n",
        "\n",
        "# Corresponding pixel coordinates in the first frame\n",
        "initial_pixel_points = np.array([\n",
        "    [1843, 759],\n",
        "    [674, 316],\n",
        "    [906, 549],\n",
        "    [1854, 367],\n",
        "    [231, 169],\n",
        "    [1439, 711],\n",
        "    [17, 1020]\n",
        "], dtype=np.float32)\n",
        "\n",
        "# Compute the homography matrix\n",
        "homography_matrix, status = cv2.findHomography(initial_pixel_points, landmarks_utm, method=cv2.RANSAC)\n",
        "\n",
        "print(\"Homography Matrix:\")\n",
        "print(homography_matrix)\n",
        "\n",
        "video_path = \"/content/drive/MyDrive/Kamrej 2.mp4\"  # Replace with your video path\n",
        "cap = cv2.VideoCapture(video_path)\n",
        "\n",
        "frame_width = int(cap.get(3))\n",
        "frame_height = int(cap.get(4))\n",
        "fps = int(cap.get(cv2.CAP_PROP_FPS))\n",
        "\n",
        "out = cv2.VideoWriter('/content/output_geotagged.mp4', cv2.VideoWriter_fourcc(*'mp4v'), fps, (frame_width, frame_height))\n",
        "\n",
        "while cap.isOpened():\n",
        "    ret, frame = cap.read()\n",
        "    if not ret:\n",
        "        break\n",
        "\n",
        "    # Process each pixel point\n",
        "    for x in initial_pixel_points:\n",
        "        pixel_point = np.array([x], dtype=np.float32).reshape(-1, 1, 2)\n",
        "        utm_point = cv2.perspectiveTransform(pixel_point, homography_matrix)\n",
        "        utm_x, utm_y = utm_point[0][0]\n",
        "\n",
        "        latitude, longitude = utm.to_latlon(utm_x, utm_y, 43, 'Q')\n",
        "\n",
        "        center = (int(x[0]), int(x[1]))\n",
        "        cv2.circle(frame, center, 5, (0, 255, 0), -1)\n",
        "\n",
        "        text_position = (int(x[0]) + 10, int(x[1]) - 10)\n",
        "        cv2.putText(frame, f\"{latitude:.6f}, {longitude:.6f}\", text_position,\n",
        "                    cv2.FONT_HERSHEY_SIMPLEX, 0.5, (255, 255, 255), 1, cv2.LINE_AA)\n",
        "\n",
        "    out.write(frame)\n",
        "\n",
        "    # Save the first frame for later use\n",
        "    if 'saved_frame' not in locals():\n",
        "        saved_frame = frame.copy()\n",
        "\n",
        "cap.release()\n",
        "out.release()\n",
        "cv2.destroyAllWindows()\n",
        "\n",
        "print(\"Geotagging complete! Video saved as /content/output_geotagged_2.mp4\")\n",
        "\n",
        "# Now use the saved frame to create the image file\n",
        "cv2.imwrite(\"/content/geotagged_frame.jpg\", saved_frame)"
      ],
      "metadata": {
        "colab": {
          "base_uri": "https://localhost:8080/"
        },
        "id": "OjJSKjkUKxtk",
        "outputId": "ced6e5d5-9799-4af3-c28f-e7d7953d5c0d"
      },
      "execution_count": null,
      "outputs": [
        {
          "output_type": "stream",
          "name": "stdout",
          "text": [
            "Requirement already satisfied: utm in /usr/local/lib/python3.11/dist-packages (0.8.0)\n",
            "Homography Matrix:\n",
            "[[-1.51364659e+00 -6.26378824e+00  2.87929897e+05]\n",
            " [-1.23062767e+01 -4.99425190e+01  2.35736371e+06]\n",
            " [-5.15176897e-06 -2.12004961e-05  1.00000000e+00]]\n",
            "Geotagging complete! Video saved as /content/output_geotagged_2.mp4\n"
          ]
        },
        {
          "output_type": "execute_result",
          "data": {
            "text/plain": [
              "True"
            ]
          },
          "metadata": {},
          "execution_count": 3
        }
      ]
    },
    {
      "cell_type": "code",
      "source": [
        "from google.colab import files\n",
        "files.download(\"/content/output_geotagged.mp4\")"
      ],
      "metadata": {
        "colab": {
          "base_uri": "https://localhost:8080/",
          "height": 17
        },
        "id": "vntYdSdsCq7H",
        "outputId": "3203183e-66ee-4846-8123-a44c622703d8"
      },
      "execution_count": null,
      "outputs": [
        {
          "output_type": "display_data",
          "data": {
            "text/plain": [
              "<IPython.core.display.Javascript object>"
            ],
            "application/javascript": [
              "\n",
              "    async function download(id, filename, size) {\n",
              "      if (!google.colab.kernel.accessAllowed) {\n",
              "        return;\n",
              "      }\n",
              "      const div = document.createElement('div');\n",
              "      const label = document.createElement('label');\n",
              "      label.textContent = `Downloading \"${filename}\": `;\n",
              "      div.appendChild(label);\n",
              "      const progress = document.createElement('progress');\n",
              "      progress.max = size;\n",
              "      div.appendChild(progress);\n",
              "      document.body.appendChild(div);\n",
              "\n",
              "      const buffers = [];\n",
              "      let downloaded = 0;\n",
              "\n",
              "      const channel = await google.colab.kernel.comms.open(id);\n",
              "      // Send a message to notify the kernel that we're ready.\n",
              "      channel.send({})\n",
              "\n",
              "      for await (const message of channel.messages) {\n",
              "        // Send a message to notify the kernel that we're ready.\n",
              "        channel.send({})\n",
              "        if (message.buffers) {\n",
              "          for (const buffer of message.buffers) {\n",
              "            buffers.push(buffer);\n",
              "            downloaded += buffer.byteLength;\n",
              "            progress.value = downloaded;\n",
              "          }\n",
              "        }\n",
              "      }\n",
              "      const blob = new Blob(buffers, {type: 'application/binary'});\n",
              "      const a = document.createElement('a');\n",
              "      a.href = window.URL.createObjectURL(blob);\n",
              "      a.download = filename;\n",
              "      div.appendChild(a);\n",
              "      a.click();\n",
              "      div.remove();\n",
              "    }\n",
              "  "
            ]
          },
          "metadata": {}
        },
        {
          "output_type": "display_data",
          "data": {
            "text/plain": [
              "<IPython.core.display.Javascript object>"
            ],
            "application/javascript": [
              "download(\"download_c8494355-4d45-424f-b8cc-987e0128b89a\", \"output_geotagged.mp4\", 585067672)"
            ]
          },
          "metadata": {}
        }
      ]
    }
  ]
}